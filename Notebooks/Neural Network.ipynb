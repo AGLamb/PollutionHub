{
 "cells": [
  {
   "cell_type": "code",
   "execution_count": 1,
   "id": "initial_id",
   "metadata": {
    "collapsed": true,
    "ExecuteTime": {
     "end_time": "2023-12-03T20:52:16.983905Z",
     "start_time": "2023-12-03T20:52:07.962948Z"
    }
   },
   "outputs": [
    {
     "name": "stderr",
     "output_type": "stream",
     "text": [
      "2023-12-03 21:52:12.376417: I tensorflow/core/platform/cpu_feature_guard.cc:182] This TensorFlow binary is optimized to use available CPU instructions in performance-critical operations.\n",
      "To enable the following instructions: AVX2 FMA, in other operations, rebuild TensorFlow with the appropriate compiler flags.\n"
     ]
    }
   ],
   "source": [
    "from tensorflow.keras.models import Sequential\n",
    "from tensorflow.keras.layers import Dense\n",
    "import matplotlib.pyplot as plt\n",
    "import tensorflow as tf\n",
    "import numpy as np"
   ]
  },
  {
   "cell_type": "code",
   "execution_count": 2,
   "outputs": [],
   "source": [
    "def create_model() -> tf.keras.models.Sequential:\n",
    "    model: tf.keras.models.Sequential = Sequential()\n",
    "    # Add three layers, each with a single ReLU neuron\n",
    "    model.add(Dense(units=3, activation='relu', input_shape=(1,)))  # First layer \n",
    "    model.add(Dense(units=3, activation='relu'))                    # Second layer\n",
    "    model.add(Dense(units=3, activation='relu'))                    # Third layer\n",
    "    return model"
   ],
   "metadata": {
    "collapsed": false,
    "ExecuteTime": {
     "end_time": "2023-11-29T20:43:04.952850Z",
     "start_time": "2023-11-29T20:43:04.941710Z"
    }
   },
   "id": "cf4de559867fa660"
  },
  {
   "cell_type": "code",
   "execution_count": 3,
   "outputs": [],
   "source": [
    "def compile_model(model: tf.keras.models.Sequential) -> None:\n",
    "    model.compile(optimizer='adam', loss='mean_squared_error')"
   ],
   "metadata": {
    "collapsed": false,
    "ExecuteTime": {
     "end_time": "2023-11-29T20:43:04.954183Z",
     "start_time": "2023-11-29T20:43:04.948946Z"
    }
   },
   "id": "1b0050d2eb2085d3"
  },
  {
   "cell_type": "code",
   "execution_count": 9,
   "outputs": [],
   "source": [
    "# Dummy data for demonstration (replace with your actual data)\n",
    "np.random.seed(0)\n",
    "x_train = np.random.rand(100, 1)  # 100 data points\n",
    "y_train = 2 * x_train + 1 + np.random.randn(100, 1) * 0.1  # Linear relation with some noise\n",
    "\n",
    "x_val = np.random.rand(20, 1)  # 20 data points for validation\n",
    "y_val = 2 * x_val + 1 + np.random.randn(20, 1) * 0.1"
   ],
   "metadata": {
    "collapsed": false,
    "ExecuteTime": {
     "end_time": "2023-11-29T20:44:54.022733Z",
     "start_time": "2023-11-29T20:44:54.008302Z"
    }
   },
   "id": "6c6b63146a17cdda"
  },
  {
   "cell_type": "code",
   "execution_count": 10,
   "outputs": [],
   "source": [
    "# Creating and compiling the model\n",
    "my_model = create_model()\n",
    "compile_model(my_model)"
   ],
   "metadata": {
    "collapsed": false,
    "ExecuteTime": {
     "end_time": "2023-11-29T20:44:55.757752Z",
     "start_time": "2023-11-29T20:44:55.710451Z"
    }
   },
   "id": "905893e713616eb5"
  },
  {
   "cell_type": "code",
   "execution_count": 16,
   "outputs": [
    {
     "name": "stdout",
     "output_type": "stream",
     "text": [
      "Epoch 1/20\n",
      "10/10 [==============================] - 0s 10ms/step - loss: 2.0007 - val_loss: 1.8925\n",
      "Epoch 2/20\n",
      "10/10 [==============================] - 0s 5ms/step - loss: 1.9478 - val_loss: 1.8439\n",
      "Epoch 3/20\n",
      "10/10 [==============================] - 0s 5ms/step - loss: 1.8998 - val_loss: 1.7968\n",
      "Epoch 4/20\n",
      "10/10 [==============================] - 0s 5ms/step - loss: 1.8519 - val_loss: 1.7537\n",
      "Epoch 5/20\n",
      "10/10 [==============================] - 0s 4ms/step - loss: 1.8098 - val_loss: 1.7121\n",
      "Epoch 6/20\n",
      "10/10 [==============================] - 0s 4ms/step - loss: 1.7670 - val_loss: 1.6752\n",
      "Epoch 7/20\n",
      "10/10 [==============================] - 0s 4ms/step - loss: 1.7309 - val_loss: 1.6394\n",
      "Epoch 8/20\n",
      "10/10 [==============================] - 0s 3ms/step - loss: 1.6945 - val_loss: 1.6076\n",
      "Epoch 9/20\n",
      "10/10 [==============================] - 0s 3ms/step - loss: 1.6630 - val_loss: 1.5779\n",
      "Epoch 10/20\n",
      "10/10 [==============================] - 0s 4ms/step - loss: 1.6329 - val_loss: 1.5514\n",
      "Epoch 11/20\n",
      "10/10 [==============================] - 0s 4ms/step - loss: 1.6069 - val_loss: 1.5269\n",
      "Epoch 12/20\n",
      "10/10 [==============================] - 0s 4ms/step - loss: 1.5827 - val_loss: 1.5048\n",
      "Epoch 13/20\n",
      "10/10 [==============================] - 0s 4ms/step - loss: 1.5611 - val_loss: 1.4849\n",
      "Epoch 14/20\n",
      "10/10 [==============================] - 0s 4ms/step - loss: 1.5411 - val_loss: 1.4677\n",
      "Epoch 15/20\n",
      "10/10 [==============================] - 0s 4ms/step - loss: 1.5248 - val_loss: 1.4518\n",
      "Epoch 16/20\n",
      "10/10 [==============================] - 0s 4ms/step - loss: 1.5088 - val_loss: 1.4384\n",
      "Epoch 17/20\n",
      "10/10 [==============================] - 0s 4ms/step - loss: 1.4956 - val_loss: 1.4266\n",
      "Epoch 18/20\n",
      "10/10 [==============================] - 0s 4ms/step - loss: 1.4842 - val_loss: 1.4162\n",
      "Epoch 19/20\n",
      "10/10 [==============================] - 0s 4ms/step - loss: 1.4737 - val_loss: 1.4073\n",
      "Epoch 20/20\n",
      "10/10 [==============================] - 0s 4ms/step - loss: 1.4652 - val_loss: 1.3995\n"
     ]
    }
   ],
   "source": [
    "# Train the model for 20 epochs\n",
    "history = my_model.fit(x_train, y_train, epochs=20, batch_size=10, validation_data=(x_val, y_val))"
   ],
   "metadata": {
    "collapsed": false,
    "ExecuteTime": {
     "end_time": "2023-11-29T20:47:01.642680Z",
     "start_time": "2023-11-29T20:47:00.674113Z"
    }
   },
   "id": "95dc495b42c9d41f"
  },
  {
   "cell_type": "code",
   "execution_count": 17,
   "outputs": [
    {
     "name": "stdout",
     "output_type": "stream",
     "text": [
      "1/1 [==============================] - 0s 30ms/step - loss: 1.3995\n",
      "Validation Loss: 1.3994903564453125\n"
     ]
    }
   ],
   "source": [
    "# Evaluate the model\n",
    "loss = my_model.evaluate(x_val, y_val)\n",
    "print(f'Validation Loss: {loss}')"
   ],
   "metadata": {
    "collapsed": false,
    "ExecuteTime": {
     "end_time": "2023-11-29T20:47:03.679897Z",
     "start_time": "2023-11-29T20:47:03.570216Z"
    }
   },
   "id": "43dbf4c4a97477b6"
  },
  {
   "cell_type": "code",
   "execution_count": 18,
   "outputs": [
    {
     "data": {
      "text/plain": "<Figure size 640x480 with 1 Axes>",
      "image/png": "[encoded data removed]"
     },
     "metadata": {},
     "output_type": "display_data"
    }
   ],
   "source": [
    "# Plotting the training and validation loss\n",
    "plt.plot(history.history['loss'], label='Training Loss')\n",
    "plt.plot(history.history['val_loss'], label='Validation Loss')\n",
    "plt.title('Training and Validation Loss Over Epochs')\n",
    "plt.ylabel('Loss')\n",
    "plt.xlabel('Epoch')\n",
    "plt.legend()\n",
    "plt.show()"
   ],
   "metadata": {
    "collapsed": false,
    "ExecuteTime": {
     "end_time": "2023-11-29T20:47:05.475716Z",
     "start_time": "2023-11-29T20:47:05.187557Z"
    }
   },
   "id": "446634c93ed1f7d9"
  },
  {
   "cell_type": "code",
   "execution_count": null,
   "outputs": [],
   "source": [],
   "metadata": {
    "collapsed": false
   },
   "id": "6c50f8c4fda550b"
  }
 ],
 "metadata": {
  "kernelspec": {
   "display_name": "Python 3",
   "language": "python",
   "name": "python3"
  },
  "language_info": {
   "codemirror_mode": {
    "name": "ipython",
    "version": 2
   },
   "file_extension": ".py",
   "mimetype": "text/x-python",
   "name": "python",
   "nbconvert_exporter": "python",
   "pygments_lexer": "ipython2",
   "version": "2.7.6"
  }
 },
 "nbformat": 4,
 "nbformat_minor": 5
}
