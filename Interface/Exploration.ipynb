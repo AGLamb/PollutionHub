{
 "cells": [
  {
   "cell_type": "code",
   "execution_count": null,
   "id": "initial_id",
   "metadata": {
    "collapsed": true
   },
   "outputs": [],
   "source": [
    "from Engine.Tools import phiFunction, relativeAngle\n",
    "from itertools import permutations\n",
    "import pandas as pd\n",
    "import numpy as np\n",
    "import random"
   ]
  },
  {
   "cell_type": "code",
   "execution_count": null,
   "outputs": [],
   "source": [
    "# Simulation setup\n",
    "random.seed(123)\n",
    "N: int = 1000                                                           # Simulation size\n",
    "Lag: int = 1                                                            # Lag value in the model"
   ],
   "metadata": {
    "collapsed": false
   },
   "id": "93c847cac944a141"
  },
  {
   "cell_type": "code",
   "execution_count": 8,
   "outputs": [],
   "source": [
    "# Geographical setup\n",
    "GridSize: list = [x for x in range(-1, 2)]                                           # Size of the geographical grid for the simulation\n",
    "Distance: float = 20.0                                                               # in Km\n",
    "Location: dict = {i: x for i, x in enumerate(list(permutations(GridSize, r=2)))}     # Dictionary of coordinates for each integer-valued intersection point in the grid"
   ],
   "metadata": {
    "collapsed": false,
    "ExecuteTime": {
     "end_time": "2023-11-19T11:15:57.222020Z",
     "start_time": "2023-11-19T11:15:57.219609Z"
    }
   },
   "id": "60a939e06ef4777b"
  },
  {
   "cell_type": "code",
   "execution_count": null,
   "outputs": [],
   "source": [
    "# Environmental Setup\n",
    "windSpeed: np.ndarray = np.random.lognormal(mean=10.0, sigma=20.0, size=[N, 1])                              # Random non-negative wind speed\n",
    "windDirection: np.ndarray = np.degrees(np.arccos(np.cos(np.linspace(0, 2 * np.pi, N, endpoint=False))))      # Sequential wind direction "
   ],
   "metadata": {
    "collapsed": false
   },
   "id": "5fdba2588bf60c8b"
  },
  {
   "cell_type": "code",
   "execution_count": null,
   "outputs": [],
   "source": [
    "# Simulating variables\n",
    "K: int = len(GridSize) ** 2\n",
    "initialPollution: float = np.random.lognormal(mean=150, sigma=40, size=[1, K])       # Random initial pollution level\n",
    "Y: np.ndarray = np.zeros([N, K])\n",
    "Y[0, :] = initialPollution\n",
    "for i in range(1, N):\n",
    "    Y[i, :] = phiFunction(\n",
    "        \n",
    "    ) @ Y[i-1, :] + np.random.normal(loc=0, scale=1)"
   ],
   "metadata": {
    "collapsed": false
   },
   "id": "5f4e524a30b52cfc"
  }
 ],
 "metadata": {
  "kernelspec": {
   "display_name": "Python 3",
   "language": "python",
   "name": "python3"
  },
  "language_info": {
   "codemirror_mode": {
    "name": "ipython",
    "version": 2
   },
   "file_extension": ".py",
   "mimetype": "text/x-python",
   "name": "python",
   "nbconvert_exporter": "python",
   "pygments_lexer": "ipython2",
   "version": "2.7.6"
  }
 },
 "nbformat": 4,
 "nbformat_minor": 5
}
