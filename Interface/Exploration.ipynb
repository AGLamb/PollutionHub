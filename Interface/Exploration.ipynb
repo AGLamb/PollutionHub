{
 "cells": [
  {
   "cell_type": "code",
   "execution_count": 117,
   "id": "initial_id",
   "metadata": {
    "collapsed": true,
    "ExecuteTime": {
     "end_time": "2023-11-22T13:46:25.245692Z",
     "start_time": "2023-11-22T13:46:25.243336Z"
    }
   },
   "outputs": [],
   "source": [
    "from Engine.Tools import phiFunction, relativeAngle, distanceCalc\n",
    "import matplotlib.pyplot as plt\n",
    "import matplotlib.cm as cm\n",
    "from itertools import product\n",
    "import numpy as np\n",
    "import random"
   ]
  },
  {
   "cell_type": "code",
   "execution_count": 118,
   "outputs": [],
   "source": [
    "# Simulation setup\n",
    "random.seed(123)\n",
    "N: int = 1000                                                          # Simulation size\n",
    "Lag: int = 1                                                           # Lag value in the model\n",
    "Phi: float = 0.8\n",
    "Rho: float = 0.03\n",
    "timeInterval: int = 1\n",
    "meanPol: float = 10.0"
   ],
   "metadata": {
    "collapsed": false,
    "ExecuteTime": {
     "end_time": "2023-11-22T13:46:25.325912Z",
     "start_time": "2023-11-22T13:46:25.311707Z"
    }
   },
   "id": "93c847cac944a141"
  },
  {
   "cell_type": "code",
   "execution_count": 119,
   "outputs": [],
   "source": [
    "# Geographical setup\n",
    "GridSize: list = [x for x in range(-1, 2)]                                           # Size of the geographical grid for the simulation\n",
    "Distance: float = 1.0                                                                # in Km\n",
    "Location: dict = {i: x for i, x in enumerate(list(product(GridSize, repeat=2)))}     # Dictionary of coordinates for each integer-valued intersection point in the grid"
   ],
   "metadata": {
    "collapsed": false,
    "ExecuteTime": {
     "end_time": "2023-11-22T13:46:25.472204Z",
     "start_time": "2023-11-22T13:46:25.462647Z"
    }
   },
   "id": "60a939e06ef4777b"
  },
  {
   "cell_type": "code",
   "execution_count": 120,
   "outputs": [],
   "source": [
    "# Environmental Setup\n",
    "windSpeed: np.ndarray = np.clip(np.random.normal(loc=30.0, scale=10.0, size=[N]), 1.0, np.inf)               # Random non-negative wind speed\n"
   ],
   "metadata": {
    "collapsed": false,
    "ExecuteTime": {
     "end_time": "2023-11-22T13:46:25.637984Z",
     "start_time": "2023-11-22T13:46:25.627656Z"
    }
   },
   "id": "5fdba2588bf60c8b"
  },
  {
   "cell_type": "code",
   "execution_count": null,
   "outputs": [],
   "source": [
    "# windDirection: np.ndarray = np.degrees(np.arccos(np.cos(np.linspace(0, 2 * np.pi, N, endpoint=False))))    # Sequential wind direction \n",
    "# windDirection: np.ndarray = np.random.uniform(low=0, high=360, size=[N])                                   # Random wind direction \n",
    "windDirection"
   ],
   "metadata": {
    "collapsed": false
   },
   "id": "d2cb0992837f8f45"
  },
  {
   "cell_type": "code",
   "execution_count": 121,
   "outputs": [],
   "source": [
    "# Simulating variables\n",
    "K: int = len(GridSize) ** 2\n",
    "initialPollution: float = np.random.normal(loc=50, scale=2.5, size=[1, K])    \n",
    "\n",
    "# Computing the Phi function values\n",
    "W: np.ndarray = np.zeros((N, K, K))\n",
    "for k in range(N):\n",
    "    for pair in product(list(Location.keys()), repeat=2):\n",
    "        i, j = pair\n",
    "        W[k, i, j] = 0 if i == j else phiFunction(\n",
    "            phi=Phi,\n",
    "            rho=Rho,\n",
    "            distance=distanceCalc(coordinateA=Location[i], coordinateB=Location[j], unit=Distance),\n",
    "            n=timeInterval,\n",
    "            velocity=windSpeed[k],\n",
    "            angle=relativeAngle(coordinateA=Location[i], coordinateB=Location[j], windDir=windDirection[k]),\n",
    "            lag=Lag\n",
    "        )\n",
    "    rowNorms: np.ndarray = np.linalg.norm(W[k, :, :], axis=1)\n",
    "    rowNorms[rowNorms == 0] = 1\n",
    "    W[k, :, :] = W[k, :, :] / rowNorms[:, np.newaxis]"
   ],
   "metadata": {
    "collapsed": false,
    "ExecuteTime": {
     "end_time": "2023-11-22T13:46:28.556863Z",
     "start_time": "2023-11-22T13:46:25.797574Z"
    }
   },
   "id": "5f4e524a30b52cfc"
  },
  {
   "cell_type": "code",
   "execution_count": 122,
   "outputs": [
    {
     "name": "stderr",
     "output_type": "stream",
     "text": [
      "/var/folders/7f/x1mp2wjd10vcy_krqb5_kwjc0000gn/T/ipykernel_60475/2712503530.py:5: RuntimeWarning: overflow encountered in matmul\n",
      "  Y[i, :] = meanPol + W[i, :, :] @ Y[i-1, :].transpose() + np.random.normal(loc=0, scale=1, size=[1, K])\n",
      "/var/folders/7f/x1mp2wjd10vcy_krqb5_kwjc0000gn/T/ipykernel_60475/2712503530.py:5: RuntimeWarning: invalid value encountered in matmul\n",
      "  Y[i, :] = meanPol + W[i, :, :] @ Y[i-1, :].transpose() + np.random.normal(loc=0, scale=1, size=[1, K])\n"
     ]
    }
   ],
   "source": [
    "# Random initial pollution level\n",
    "Y: np.ndarray = np.zeros([N, K])\n",
    "Y[0, :] = meanPol + initialPollution\n",
    "for i in range(1, N):\n",
    "    Y[i, :] = meanPol + W[i, :, :] @ Y[i-1, :].transpose() + np.random.normal(loc=0, scale=1, size=[1, K])"
   ],
   "metadata": {
    "collapsed": false,
    "ExecuteTime": {
     "end_time": "2023-11-22T13:46:28.584718Z",
     "start_time": "2023-11-22T13:46:28.567642Z"
    }
   },
   "id": "7480aff352af27e2"
  },
  {
   "cell_type": "code",
   "execution_count": 123,
   "outputs": [
    {
     "data": {
      "text/plain": "array([[ 60.2124702 ,  65.60662796,  62.70632197, ...,  59.05325769,\n         60.99085462,  55.95284912],\n       [183.64155169, 184.84277593, 183.91850618, ..., 185.67072696,\n        185.3213121 , 185.96590998],\n       [532.63247871, 533.62723904, 533.28755373, ..., 531.90043641,\n        532.77473051, 531.19712263],\n       ...,\n       [         nan,          nan,          nan, ...,          nan,\n                 nan,          nan],\n       [         nan,          nan,          nan, ...,          nan,\n                 nan,          nan],\n       [         nan,          nan,          nan, ...,          nan,\n                 nan,          nan]])"
     },
     "execution_count": 123,
     "metadata": {},
     "output_type": "execute_result"
    }
   ],
   "source": [
    "Y"
   ],
   "metadata": {
    "collapsed": false,
    "ExecuteTime": {
     "end_time": "2023-11-22T13:46:28.596737Z",
     "start_time": "2023-11-22T13:46:28.591704Z"
    }
   },
   "id": "672d9a407bd582f"
  },
  {
   "cell_type": "code",
   "execution_count": 124,
   "outputs": [
    {
     "name": "stderr",
     "output_type": "stream",
     "text": [
      "/var/folders/7f/x1mp2wjd10vcy_krqb5_kwjc0000gn/T/ipykernel_60475/2062200356.py:4: MatplotlibDeprecationWarning: The get_cmap function was deprecated in Matplotlib 3.7 and will be removed two minor releases later. Use ``matplotlib.colormaps[name]`` or ``matplotlib.colormaps.get_cmap(obj)`` instead.\n",
      "  cmap = cm.get_cmap('viridis')\n"
     ]
    },
    {
     "data": {
      "text/plain": "<Figure size 640x480 with 1 Axes>",
      "image/png": "[encoded data removed]"
     },
     "metadata": {},
     "output_type": "display_data"
    }
   ],
   "source": [
    "fig, ax = plt.subplots()\n",
    "\n",
    "# Get a color map\n",
    "cmap = cm.get_cmap('viridis')\n",
    "\n",
    "# Generate colors from the color map\n",
    "colors = [cmap(i) for i in np.linspace(0, 1, Y.shape[1])]\n",
    "\n",
    "# Plot each column with a unique color\n",
    "for i in range(Y.shape[1]):\n",
    "    ax.plot(Y[:, i], color=colors[i])\n",
    "\n",
    "plt.show()"
   ],
   "metadata": {
    "collapsed": false,
    "ExecuteTime": {
     "end_time": "2023-11-22T13:46:29.273919Z",
     "start_time": "2023-11-22T13:46:28.603079Z"
    }
   },
   "id": "cca074a4288efee6"
  },
  {
   "cell_type": "code",
   "execution_count": 94,
   "outputs": [],
   "source": [],
   "metadata": {
    "collapsed": false,
    "ExecuteTime": {
     "end_time": "2023-11-22T12:06:51.317270Z",
     "start_time": "2023-11-22T12:06:51.310624Z"
    }
   },
   "id": "145984782040862f"
  },
  {
   "cell_type": "code",
   "execution_count": null,
   "outputs": [],
   "source": [],
   "metadata": {
    "collapsed": false
   },
   "id": "dc5d43b4698be883"
  }
 ],
 "metadata": {
  "kernelspec": {
   "display_name": "Python 3",
   "language": "python",
   "name": "python3"
  },
  "language_info": {
   "codemirror_mode": {
    "name": "ipython",
    "version": 2
   },
   "file_extension": ".py",
   "mimetype": "text/x-python",
   "name": "python",
   "nbconvert_exporter": "python",
   "pygments_lexer": "ipython2",
   "version": "2.7.6"
  }
 },
 "nbformat": 4,
 "nbformat_minor": 5
}
