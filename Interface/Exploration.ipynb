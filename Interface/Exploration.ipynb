{
 "cells": [
  {
   "cell_type": "code",
   "execution_count": 110,
   "id": "initial_id",
   "metadata": {
    "collapsed": true,
    "ExecuteTime": {
     "end_time": "2023-11-29T21:06:31.122264Z",
     "start_time": "2023-11-29T21:06:31.102777Z"
    }
   },
   "outputs": [],
   "source": [
    "from Engine.Tools import phiFunction, relativeAngle, distanceCalc\n",
    "import matplotlib.pyplot as plt\n",
    "import matplotlib.cm as cm\n",
    "from itertools import product\n",
    "import numpy as np\n",
    "import random"
   ]
  },
  {
   "cell_type": "code",
   "execution_count": 111,
   "outputs": [],
   "source": [
    "# Simulation setup\n",
    "random.seed(123)\n",
    "N: int = 1000                                                          # Simulation size\n",
    "Lag: int = 1                                                           # Lag value in the model\n",
    "Phi: float = 0.35\n",
    "Rho: float = 0.5\n",
    "timeInterval: int = 1\n",
    "meanPol: float = 10.0"
   ],
   "metadata": {
    "collapsed": false,
    "ExecuteTime": {
     "end_time": "2023-11-29T21:06:31.280822Z",
     "start_time": "2023-11-29T21:06:31.260225Z"
    }
   },
   "id": "93c847cac944a141"
  },
  {
   "cell_type": "code",
   "execution_count": 112,
   "outputs": [],
   "source": [
    "# Geographical setup\n",
    "GridSize: list = [x for x in range(-1, 2)]                                           # Size of the geographical grid for the simulation\n",
    "Distance: float = 10.0                                                               # in Km\n",
    "Location: dict = {i: x for i, x in enumerate(list(product(GridSize, repeat=2)))}     # Dictionary of coordinates for each integer-valued intersection point in the grid"
   ],
   "metadata": {
    "collapsed": false,
    "ExecuteTime": {
     "end_time": "2023-11-29T21:06:31.453911Z",
     "start_time": "2023-11-29T21:06:31.433990Z"
    }
   },
   "id": "60a939e06ef4777b"
  },
  {
   "cell_type": "code",
   "execution_count": 113,
   "outputs": [],
   "source": [
    "# Environmental Setup\n",
    "# windSpeed: np.ndarray = np.clip(np.random.normal(loc=30.0, scale=10.0, size=[N]), 1.0, np.inf)               # Random non-negative wind speed\n",
    "windSpeed: np.ndarray = np.ones(shape=N) * 20"
   ],
   "metadata": {
    "collapsed": false,
    "ExecuteTime": {
     "end_time": "2023-11-29T21:06:31.609604Z",
     "start_time": "2023-11-29T21:06:31.589618Z"
    }
   },
   "id": "5fdba2588bf60c8b"
  },
  {
   "cell_type": "code",
   "execution_count": 114,
   "outputs": [],
   "source": [
    "# windDirection: np.ndarray = np.degrees(np.arccos(np.cos(np.linspace(0, 2 * np.pi, N, endpoint=False))))    # Sequential wind direction \n",
    "windDirection: np.ndarray = np.random.uniform(low=0, high=360, size=[N])                                   # Random wind direction "
   ],
   "metadata": {
    "collapsed": false,
    "ExecuteTime": {
     "end_time": "2023-11-29T21:06:31.728396Z",
     "start_time": "2023-11-29T21:06:31.712166Z"
    }
   },
   "id": "d2cb0992837f8f45"
  },
  {
   "cell_type": "code",
   "execution_count": 115,
   "outputs": [],
   "source": [
    "# Simulating variables\n",
    "K: int = len(GridSize) ** 2\n",
    "initialPollution: float = np.random.normal(loc=50, scale=2.5, size=[1, K])    \n",
    "\n",
    "# Computing the Phi function values\n",
    "W: np.ndarray = np.zeros((N, K, K))\n",
    "for k in range(N):\n",
    "    for pair in product(list(Location.keys()), repeat=2):\n",
    "        i, j = pair\n",
    "        W[k, i, j] = 0 if i == j else phiFunction(\n",
    "            phi=Phi,\n",
    "            rho=Rho,\n",
    "            distance=distanceCalc(coordinateA=Location[i], coordinateB=Location[j], unit=Distance),\n",
    "            n=timeInterval,\n",
    "            velocity=windSpeed[k],\n",
    "            angle=relativeAngle(coordinateA=Location[i], coordinateB=Location[j], windDir=windDirection[k]),\n",
    "            lag=Lag\n",
    "        )\n",
    "    rowNorms: np.ndarray = np.linalg.norm(W[k, :, :], axis=1)\n",
    "    rowNorms[rowNorms == 0] = 1\n",
    "    W[k, :, :] = W[k, :, :] / rowNorms[:, np.newaxis]"
   ],
   "metadata": {
    "collapsed": false,
    "ExecuteTime": {
     "end_time": "2023-11-29T21:06:36.891937Z",
     "start_time": "2023-11-29T21:06:31.868351Z"
    }
   },
   "id": "5f4e524a30b52cfc"
  },
  {
   "cell_type": "code",
   "execution_count": 116,
   "outputs": [],
   "source": [
    "# Random initial pollution level\n",
    "Y: np.ndarray = np.zeros([N, K])\n",
    "Y[0, :] = meanPol + initialPollution\n",
    "for i in range(1, N):\n",
    "    Y[i, :] = meanPol + W[i, :, :] @ Y[i-1, :].transpose() + np.random.normal(loc=0, scale=1, size=[1, K])"
   ],
   "metadata": {
    "collapsed": false,
    "ExecuteTime": {
     "end_time": "2023-11-29T21:06:36.930938Z",
     "start_time": "2023-11-29T21:06:36.905049Z"
    }
   },
   "id": "7480aff352af27e2"
  },
  {
   "cell_type": "code",
   "execution_count": 117,
   "outputs": [
    {
     "data": {
      "text/plain": "array([[61.4058273 , 58.29216708, 63.12273407, ..., 58.11316332,\n        56.91871626, 57.05785022],\n       [ 9.47065163, 10.17011696, 10.26219601, ..., 10.65555902,\n        74.22094883, 10.04734639],\n       [79.81994677, 43.69323228, 80.34794462, ..., 74.96066845,\n        35.56723225, 75.76064044],\n       ...,\n       [32.32570396, 30.80125143, 29.66807337, ..., 31.16582492,\n        34.26462067, 31.47138029],\n       [53.72671725, 70.85082452, 54.85075467, ..., 65.24680461,\n        78.0711269 , 66.96179869],\n       [10.13963889,  7.94955778,  9.4265559 , ...,  7.84727156,\n        10.57049255,  9.28278857]])"
     },
     "execution_count": 117,
     "metadata": {},
     "output_type": "execute_result"
    }
   ],
   "source": [
    "Y"
   ],
   "metadata": {
    "collapsed": false,
    "ExecuteTime": {
     "end_time": "2023-11-29T21:06:36.944548Z",
     "start_time": "2023-11-29T21:06:36.932743Z"
    }
   },
   "id": "672d9a407bd582f"
  },
  {
   "cell_type": "code",
   "execution_count": 118,
   "outputs": [
    {
     "name": "stderr",
     "output_type": "stream",
     "text": [
      "/var/folders/7f/x1mp2wjd10vcy_krqb5_kwjc0000gn/T/ipykernel_16808/2062200356.py:4: MatplotlibDeprecationWarning: The get_cmap function was deprecated in Matplotlib 3.7 and will be removed two minor releases later. Use ``matplotlib.colormaps[name]`` or ``matplotlib.colormaps.get_cmap(obj)`` instead.\n",
      "  cmap = cm.get_cmap('viridis')\n"
     ]
    },
    {
     "data": {
      "text/plain": "<Figure size 640x480 with 1 Axes>",
      "image/png": "[encoded data removed]"
     },
     "metadata": {},
     "output_type": "display_data"
    }
   ],
   "source": [
    "fig, ax = plt.subplots()\n",
    "\n",
    "# Get a color map\n",
    "cmap = cm.get_cmap('viridis')\n",
    "\n",
    "# Generate colors from the color map\n",
    "colors = [cmap(i) for i in np.linspace(0, 1, Y.shape[1])]\n",
    "\n",
    "# Plot each column with a unique color\n",
    "for i in range(Y.shape[1]):\n",
    "    ax.plot(Y[:, i], color=colors[i])\n",
    "\n",
    "plt.show()"
   ],
   "metadata": {
    "collapsed": false,
    "ExecuteTime": {
     "end_time": "2023-11-29T21:06:37.173041Z",
     "start_time": "2023-11-29T21:06:36.970305Z"
    }
   },
   "id": "cca074a4288efee6"
  },
  {
   "cell_type": "code",
   "execution_count": null,
   "outputs": [],
   "source": [],
   "metadata": {
    "collapsed": false
   },
   "id": "a9399dbb87d82a47"
  }
 ],
 "metadata": {
  "kernelspec": {
   "display_name": "Python 3",
   "language": "python",
   "name": "python3"
  },
  "language_info": {
   "codemirror_mode": {
    "name": "ipython",
    "version": 2
   },
   "file_extension": ".py",
   "mimetype": "text/x-python",
   "name": "python",
   "nbconvert_exporter": "python",
   "pygments_lexer": "ipython2",
   "version": "2.7.6"
  }
 },
 "nbformat": 4,
 "nbformat_minor": 5
}
